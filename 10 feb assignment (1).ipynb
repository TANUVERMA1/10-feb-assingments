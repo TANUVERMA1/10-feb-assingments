{
 "cells": [
  {
   "cell_type": "markdown",
   "id": "5d877c75-77e8-42a0-aa67-77b4484d560a",
   "metadata": {},
   "source": [
    "Q1. What is Abstraction in OOps? Explain with an example."
   ]
  },
  {
   "cell_type": "markdown",
   "id": "9de08bd2-5ba9-4232-af92-6c965c2e8c40",
   "metadata": {},
   "source": [
    "Abstraction is used to make skeleton and blueprint in oops. abstraction inherit skeleton.when we create a blueprint wecannot fix aparticular function we just make skeleton which is abstract where we create a different method with same blueprint or abstraction."
   ]
  },
  {
   "cell_type": "code",
   "execution_count": 12,
   "id": "653e58ad-29f7-4835-9d39-ac9fb7fe6ad8",
   "metadata": {},
   "outputs": [],
   "source": [
    "import abc\n",
    "class pwskills :\n",
    "   \n",
    "    @abc.abstractclassmethod\n",
    "    def student_details(self):\n",
    "            pass\n",
    "        \n",
    "    @abc.abstractclassmethod\n",
    "    def student_assignment(self):\n",
    "            pass\n",
    "        \n",
    "    @abc.abstractclassmethod\n",
    "    def student_marks(self):\n",
    "            pass\n"
   ]
  },
  {
   "cell_type": "code",
   "execution_count": 13,
   "id": "3b509586-509f-43cf-b924-06e266f24a28",
   "metadata": {},
   "outputs": [],
   "source": [
    "class student_details(pwskills):\n",
    "    \n",
    "    \n",
    "    def student_details(self):\n",
    "        return\"this is the method for taking student details\"\n",
    "    \n",
    "    def student_assignment(self):\n",
    "        return\"this is the method for taking student assignments\"\n",
    "        "
   ]
  },
  {
   "cell_type": "code",
   "execution_count": 9,
   "id": "919ee8df-d427-40fb-8345-e4eca3c4c210",
   "metadata": {},
   "outputs": [],
   "source": [
    "class data_science_master(pwskills):\n",
    "    \n",
    "     def students_details(self):\n",
    "        return\"this will return student details for data science master\"\n",
    "    \n",
    "     def students_assignment(self):\n",
    "        return\"this will give student assignments details for data science master\"\n",
    "        "
   ]
  },
  {
   "cell_type": "code",
   "execution_count": 10,
   "id": "0b3f5335-3ef0-48a1-a775-6aa96b8883c1",
   "metadata": {},
   "outputs": [
    {
     "data": {
      "text/plain": [
       "'this will return student details for data science master'"
      ]
     },
     "execution_count": 10,
     "metadata": {},
     "output_type": "execute_result"
    }
   ],
   "source": [
    "dsm = data_science_master()\n",
    "dsm.students_details()"
   ]
  },
  {
   "cell_type": "code",
   "execution_count": 11,
   "id": "6a806627-8eda-4700-8a1b-129a932fbb4e",
   "metadata": {},
   "outputs": [
    {
     "data": {
      "text/plain": [
       "'this is the method for taking student details'"
      ]
     },
     "execution_count": 11,
     "metadata": {},
     "output_type": "execute_result"
    }
   ],
   "source": [
    "sd = student_details()\n",
    "sd.student_details()"
   ]
  },
  {
   "cell_type": "markdown",
   "id": "609cf26e-068f-4691-8a89-45def8af706f",
   "metadata": {},
   "source": [
    "Q2. Differentiate between Abstraction and Encapsulation. Explain with an example. "
   ]
  },
  {
   "cell_type": "markdown",
   "id": "da3c94be-e8ec-4152-8df2-157b2df8b7ed",
   "metadata": {},
   "source": [
    "Difference Between Abstraction and Encapsulation"
   ]
  },
  {
   "cell_type": "markdown",
   "id": "86f88124-4c0f-4b9a-aea7-d764e372a0e4",
   "metadata": {},
   "source": [
    "Key Differences between Abstraction vs Encapsulation\n",
    "Abstraction shows only useful data by providing the most necessary details, whereas Encapsulation wraps code and data for necessary information.\n",
    "Abstraction is focused mainly on what should be done, while Encapsulation is focused on how it should be done.\n",
    "Abstraction hides complexity by giving you a more abstract picture, while Encapsulation hides internal work so that you can change it later.\n",
    "Abstraction helps you to partition the program into many independent portions, whereas Encapsulation is easy to change with new requirements.\n",
    "Comparing Encapsulation vs Abstraction, Abstraction solves problems at the design level while Encapsulation solves problems at the implementation level.\n",
    "Abstraction hides the irrelevant details found in the code, whereas Encapsulation helps developers to organize the entire code easily."
   ]
  },
  {
   "cell_type": "markdown",
   "id": "82a745f8-9de8-4e61-8304-bdc78e5e8329",
   "metadata": {},
   "source": [
    "Q3. What is abc module in python? Why is it used?"
   ]
  },
  {
   "cell_type": "markdown",
   "id": "871d251b-85ed-4ebf-ad90-492be9b3239d",
   "metadata": {},
   "source": [
    "The 'abc' module in Python library provides the infrastructure for defining custom abstract base classes. 'abc' works by marking methods of the base class as abstract. This is done by @absttractmethod decorator."
   ]
  },
  {
   "cell_type": "markdown",
   "id": "5e82947d-4ccb-4244-8eda-53bc1874209e",
   "metadata": {},
   "source": [
    "Q4. How can we achieve data abstraction?"
   ]
  },
  {
   "cell_type": "markdown",
   "id": "af7910cc-7f7a-4d53-958d-62bd2c3ef907",
   "metadata": {},
   "source": [
    "Abstraction using classes: An abstraction can be achieved using classes. A class is used to group all the data members and member functions into a single unit by using the access specifiers."
   ]
  },
  {
   "cell_type": "markdown",
   "id": "7db4fd05-3048-4888-9eba-08e8492b44a7",
   "metadata": {},
   "source": [
    "Q5. Can we create an instance of an abstract class? Explain your answer."
   ]
  },
  {
   "cell_type": "markdown",
   "id": "ac639aae-f7f0-4bbd-b437-5764fffa3622",
   "metadata": {},
   "source": [
    "Abstract classes cannot be instantiated, but they can be subclassed. When an abstract class is subclassed, the subclass usually provides implementations for all of the abstract methods in its parent class. However, if it does not, then the subclass must also be declared abstract ."
   ]
  },
  {
   "cell_type": "code",
   "execution_count": null,
   "id": "02cda4ad-03a1-44e1-aea0-392bec76bdd1",
   "metadata": {},
   "outputs": [],
   "source": []
  }
 ],
 "metadata": {
  "kernelspec": {
   "display_name": "Python 3 (ipykernel)",
   "language": "python",
   "name": "python3"
  },
  "language_info": {
   "codemirror_mode": {
    "name": "ipython",
    "version": 3
   },
   "file_extension": ".py",
   "mimetype": "text/x-python",
   "name": "python",
   "nbconvert_exporter": "python",
   "pygments_lexer": "ipython3",
   "version": "3.10.8"
  }
 },
 "nbformat": 4,
 "nbformat_minor": 5
}
